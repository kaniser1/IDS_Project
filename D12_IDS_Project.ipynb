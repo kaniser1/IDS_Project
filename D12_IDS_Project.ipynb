{
 "cells": [
  {
   "cell_type": "markdown",
   "id": "83aafbc6",
   "metadata": {},
   "source": [
    "# Project D12\n",
    "## ADL1 - Cleaning Data"
   ]
  },
  {
   "cell_type": "markdown",
   "id": "ad2c4acd",
   "metadata": {},
   "source": [
    "##### Opening the datasets "
   ]
  },
  {
   "cell_type": "code",
   "execution_count": 157,
   "id": "8df5bbb2",
   "metadata": {},
   "outputs": [],
   "source": [
    "import pandas as pd\n",
    "import numpy as np\n",
    "positions = pd.read_table(\"data/out.csv\",sep = \",\")\n",
    "autonomy = pd.read_table(\"data/out_autonomy.csv\",sep = \",\")\n",
    "speed = pd.read_table(\"data/out_speed.csv\",sep = \",\")\n",
    "steer = pd.read_table(\"data/out_steer.csv\",sep = \",\")\n",
    "turn = pd.read_csv(\"data/outturn.csv\",sep = \",\")"
   ]
  },
  {
   "cell_type": "markdown",
   "id": "a61ce114",
   "metadata": {},
   "source": [
    "##### Convert data into pandas DataFrames"
   ]
  },
  {
   "cell_type": "code",
   "execution_count": 158,
   "id": "f34490b9",
   "metadata": {},
   "outputs": [],
   "source": [
    "pos_df = pd.DataFrame(positions)\n",
    "auto_df = pd.DataFrame(autonomy)\n",
    "speed_df = pd.DataFrame(speed)\n",
    "steer_df = pd.DataFrame(steer)\n",
    "turn_df = pd.DataFrame(turn)"
   ]
  },
  {
   "cell_type": "markdown",
   "id": "5f65cbb5",
   "metadata": {},
   "source": [
    "##### Deleting the beginning of the recording"
   ]
  },
  {
   "cell_type": "code",
   "execution_count": 159,
   "id": "737d577f",
   "metadata": {
    "scrolled": true
   },
   "outputs": [],
   "source": [
    "def deletebeginning(pos_df):\n",
    "    start_x = pos_df[\"field.pose.position.x\"][0].round()#fixing the starting values\n",
    "    print(start_x)\n",
    "    start_y = pos_df[\"field.pose.position.y\"][0].round()\n",
    "    print(start_y)\n",
    "    move_start_x=0#counters \n",
    "    move_start_y=0\n",
    "    moved_x= False#value to represent whether the car has moved\n",
    "    moved_y= False\n",
    "    moved_index= 0#index counter\n",
    "    for i in range(len(pos_df)):\n",
    "        current_x=pos_df[\"field.pose.position.x\"][i].round()#fixing the current x and y values\n",
    "        current_y=pos_df[\"field.pose.position.y\"][i].round()\n",
    "        if current_x == start_x:# if the values do not change, they must be deleted\n",
    "            move_start_x += 1\n",
    "        else:\n",
    "            moved_x= True\n",
    "        if current_y == start_y:\n",
    "            move_start_y += 1\n",
    "        else:\n",
    "            moved_y= True\n",
    "            \n",
    "        if moved_x and moved_y:# if the x and y values did change\n",
    "            if move_start_x > move_start_y:#finding out which value changed last\n",
    "                moved_index= move_start_x\n",
    "            elif move_start_x < move_start_y:\n",
    "                moved_index= move_start_y\n",
    "    removable_indicies = pos_df[:moved_index]\n",
    "    for index in range(len(removable_indicies)):\n",
    "        remove_closest_time(speed_df, pos_df, index)\n",
    "        remove_closest_time(steer_df, pos_df, index)\n",
    "        remove_closest_time(turn_df, pos_df, index)\n",
    "        pos_df.drop(index, 0, inplace=True)\n",
    "        pos_df.reset_index(drop=True, inplace=True)\n",
    "    print(moved_index)\n",
    "    return pos_df"
   ]
  },
  {
   "cell_type": "code",
   "execution_count": 160,
   "id": "b21f7e38",
   "metadata": {},
   "outputs": [],
   "source": [
    "def deleteend(pos_df):\n",
    "    start_x = pos_df[\"field.pose.position.x\"][len(pos_df[\"field.pose.position.x\"])-1].round()\n",
    "    start_y = pos_df[\"field.pose.position.y\"][len(pos_df[\"field.pose.position.y\"])-1].round()\n",
    "    stop_start_x=0\n",
    "    stop_start_y=0\n",
    "    stopped_x= False\n",
    "    stopped_y= False\n",
    "    stopped_index= 0\n",
    "    print(start_x)\n",
    "    print(start_y)\n",
    "    i = len(pos_df[\"field.pose.position.x\"])-1\n",
    "    while i > 0:\n",
    "        current_x=pos_df[\"field.pose.position.x\"][i].round()\n",
    "        current_y=pos_df[\"field.pose.position.y\"][i].round()\n",
    "        if current_x == start_x:\n",
    "            stop_start_x += 1\n",
    "        else:\n",
    "            stopped_x= True\n",
    "        if current_y == start_y:\n",
    "            stop_start_y += 1\n",
    "        else:\n",
    "            stopped_y= True\n",
    "            \n",
    "        if stopped_x and stopped_y:\n",
    "            if stop_start_x > stop_start_y:\n",
    "                stopped_index= stop_start_x\n",
    "            elif stop_start_x < stop_start_y:\n",
    "                stopped_index= stop_start_y\n",
    "        i -= 1\n",
    "    \n",
    "    real_stopped_index = len(pos_df[\"field.pose.position.x\"])-stopped_index\n",
    "    removable_indicies = pos_df[real_stopped_index:]\n",
    "    for index in range(len(pos_df[\"field.pose.position.x\"])-1, real_stopped_index-1, -1):\n",
    "        remove_closest_time(speed_df, pos_df, index)\n",
    "        remove_closest_time(steer_df, pos_df, index)\n",
    "        remove_closest_time(turn_df, pos_df, index)\n",
    "        pos_df.drop(index, 0, inplace=True)\n",
    "        pos_df.reset_index(drop=True, inplace=True)\n",
    "        \n",
    "    print(real_stopped_index)\n",
    "    return pos_df"
   ]
  },
  {
   "cell_type": "code",
   "execution_count": 161,
   "id": "da7d6e44",
   "metadata": {},
   "outputs": [
    {
     "name": "stdout",
     "output_type": "stream",
     "text": [
      "-8354.0\n",
      "-5678.0\n",
      "111\n"
     ]
    }
   ],
   "source": [
    "pos_df = deletebeginning(pos_df)"
   ]
  },
  {
   "cell_type": "code",
   "execution_count": 162,
   "id": "0309238f",
   "metadata": {
    "scrolled": true
   },
   "outputs": [
    {
     "name": "stdout",
     "output_type": "stream",
     "text": [
      "-11672.0\n",
      "-3078.0\n",
      "54772\n"
     ]
    }
   ],
   "source": [
    "pos_df = deleteend(pos_df)"
   ]
  },
  {
   "cell_type": "code",
   "execution_count": null,
   "id": "ee5faba4",
   "metadata": {},
   "outputs": [],
   "source": [
    "pos_df"
   ]
  },
  {
   "cell_type": "markdown",
   "id": "8945b5b7",
   "metadata": {},
   "source": [
    "##### Finding the dataset with the best timestamp frequency"
   ]
  },
  {
   "cell_type": "code",
   "execution_count": 167,
   "id": "d9891421",
   "metadata": {
    "scrolled": true
   },
   "outputs": [
    {
     "name": "stdout",
     "output_type": "stream",
     "text": [
      "20000003.229291935\n"
     ]
    }
   ],
   "source": [
    "#pos_df: 20000003.229291935\n",
    "#speed_df: 33486280.14943612\n",
    "#steer_df: 33485068.742158055\n",
    "#turn_df: 33486269.028086815\n",
    "results = [20000003.229291935, 33486280.14943612, 33485068.742158055, 33486269.028086815]\n",
    "print(min(results))"
   ]
  },
  {
   "cell_type": "markdown",
   "id": "681edcf6",
   "metadata": {},
   "source": [
    "##### Method to delete all the necessary rows from all of the tables"
   ]
  },
  {
   "cell_type": "code",
   "execution_count": 168,
   "id": "ae33166d",
   "metadata": {},
   "outputs": [],
   "source": [
    "def remove_closest_time(remove_table, origin_table, removed_index):\n",
    "    #remove_table is the table from where we remove the row\n",
    "    #origin_table is the table, where the original timestamp is\n",
    "    #removed_index is the index in the origin table which timestamp we wish to compare\n",
    "    closest = 10000000000000\n",
    "    index = 0\n",
    "    best_index = 0\n",
    "    freq = 20000003.229291935 # best frequency across the tables from pos_df\n",
    "    origin_table_time = origin_table[\"field.header.stamp\"][removed_index] # time we wish to compare to other tables\n",
    "    for time in remove_table[\"field.header.stamp\"]:\n",
    "        if abs(origin_table_time - time) < closest: # finding new best time compared to original\n",
    "            closest = abs(origin_table_time - time)\n",
    "            best_index = index\n",
    "        index += 1\n",
    "    if (closest / freq) < 1: # check to see whether the removable time seems valid or is unrelated.\n",
    "        remove_table.drop(best_index, 0, inplace=True) # removes row\n",
    "        remove_table.reset_index(drop=True, inplace=True) # resets indecies"
   ]
  },
  {
   "cell_type": "markdown",
   "id": "4d95cc30",
   "metadata": {},
   "source": [
    "##### Method to delete rows where the turn signal is active"
   ]
  },
  {
   "cell_type": "code",
   "execution_count": 182,
   "id": "7e9de7c3",
   "metadata": {},
   "outputs": [],
   "source": [
    "def deleteturnsignalon():\n",
    "    timestamptobedeleted = []\n",
    "    for i in range(len(turn_df[\"field.enabled\"])):\n",
    "        if turn_df[\"field.enabled\"][i] == 1:\n",
    "            timestamptobedeleted.append(i)\n",
    "    for index in timestamptobedeleted:\n",
    "        remove_closest_time(pos_df,turn_df,index)\n",
    "        remove_closest_time(speed_df,turn_df,index)\n",
    "        remove_closest_time(steer_df,turn_df,index)\n",
    "        turn_df.drop(index, 0, inplace=True)\n",
    "        turn_df.reset_index(drop=True, inplace=True)"
   ]
  },
  {
   "cell_type": "markdown",
   "id": "318da7d7",
   "metadata": {},
   "source": [
    "##### Method to delete rows where the car is reversing"
   ]
  },
  {
   "cell_type": "code",
   "execution_count": 184,
   "id": "47e9569e",
   "metadata": {},
   "outputs": [],
   "source": [
    "def deletereversing(reversing_table): # reversing table is the table where the gear topic is in\n",
    "    indicies_to_be_deleted = []\n",
    "    for i in range(len(reversing_table[\"header.current_gear\"])): # Finds all the rows where reverse is in\n",
    "        if reversing_table[\"header.current_gear\"] == 2:\n",
    "            indicies_to_be_deleted.append(i)\n",
    "    for index in indicies_to_be_deleted: # deletes all the corresponding rows from other files if they exist and from the current one\n",
    "        remove_closest_time(pos_df,reversing_table,index)\n",
    "        remove_closest_time(speed_df,reversing_table,index)\n",
    "        remove_closest_time(steer_df,reversing_table,index)\n",
    "        reversing_table.drop(index, 0, inplace=True)\n",
    "        reversing_table.reset_index(drop=True, inplace=True)"
   ]
<<<<<<< HEAD
=======
  },
  {
   "cell_type": "code",
   "execution_count": 13,
   "id": "ef95f6cc",
   "metadata": {},
   "outputs": [
    {
     "data": {
      "text/html": [
       "<div>\n",
       "<style scoped>\n",
       "    .dataframe tbody tr th:only-of-type {\n",
       "        vertical-align: middle;\n",
       "    }\n",
       "\n",
       "    .dataframe tbody tr th {\n",
       "        vertical-align: top;\n",
       "    }\n",
       "\n",
       "    .dataframe thead th {\n",
       "        text-align: right;\n",
       "    }\n",
       "</style>\n",
       "<table border=\"1\" class=\"dataframe\">\n",
       "  <thead>\n",
       "    <tr style=\"text-align: right;\">\n",
       "      <th></th>\n",
       "      <th>%time</th>\n",
       "      <th>field.header.seq</th>\n",
       "      <th>field.header.stamp</th>\n",
       "      <th>field.header.frame_id</th>\n",
       "      <th>field.pose.position.x</th>\n",
       "      <th>field.pose.position.y</th>\n",
       "      <th>field.pose.position.z</th>\n",
       "      <th>field.pose.orientation.x</th>\n",
       "      <th>field.pose.orientation.y</th>\n",
       "      <th>field.pose.orientation.z</th>\n",
       "      <th>field.pose.orientation.w</th>\n",
       "    </tr>\n",
       "  </thead>\n",
       "  <tbody>\n",
       "  </tbody>\n",
       "</table>\n",
       "</div>"
      ],
      "text/plain": [
       "Empty DataFrame\n",
       "Columns: [%time, field.header.seq, field.header.stamp, field.header.frame_id, field.pose.position.x, field.pose.position.y, field.pose.position.z, field.pose.orientation.x, field.pose.orientation.y, field.pose.orientation.z, field.pose.orientation.w]\n",
       "Index: []"
      ]
     },
     "execution_count": 13,
     "metadata": {},
     "output_type": "execute_result"
    }
   ],
   "source": [
    "curves = pd.DataFrame(columns=[\"%time\",\"field.header.seq\",\"field.header.stamp\",\"field.header.frame_id\",\"field.pose.position.x\",\"field.pose.position.y\",\"field.pose.position.z\",\"field.pose.orientation.x\",\"field.pose.orientation.y\",\"field.pose.orientation.z\",\"field.pose.orientation.w\"\n",
    "] )\n",
    "straigths = pd.DataFrame(columns= [\"%time\",\"field.header.seq\",\"field.header.stamp\",\"field.header.frame_id\",\"field.pose.position.x\",\"field.pose.position.y\",\"field.pose.position.z\",\"field.pose.orientation.x\",\"field.pose.orientation.y\",\"field.pose.orientation.z\",\"field.pose.orientation.w\"\n",
    "])\n",
    "straigths"
   ]
  },
  {
   "cell_type": "code",
   "execution_count": null,
   "id": "e618ffa8",
   "metadata": {},
   "outputs": [],
   "source": []
  },
  {
   "cell_type": "code",
   "execution_count": null,
   "id": "c7e1980f",
   "metadata": {},
   "outputs": [],
   "source": [
    "def separatecurves():\n",
    "    turnvalue = 1\n",
    "    curvelist = [][]\n",
    "    curvecounter = 0\n",
    "    curvepart = 0\n",
    "    for i in range(len(pos_df)):\n",
    "        for j in range(len(turn_df)):\n",
    "            if pos_df[\"field.header.stamp\"][i] < turn_df[\"field.header.stamp\"][j] or pos_df[\"field.header.stamp\"][i] == turn_df[\"field.header.stamp\"][j]:\n",
    "                turnvalue = turn_df[\"field.output\"][j]\n",
    "                if turn_df[\"field.output\"][j] == turnvalue and turnvalue != 1:\n",
    "                    curvelist[curvecounter][curvepart]= i\n",
    "                    i += 1\n",
    "                    curvepart += 1\n",
    "                    \n",
    "        curvecounter += 1\n",
    "    summ = 0\n",
    "    for i in range(len(curvelist)):\n",
    "        summ += len(curvelist[i])\n",
    "    average = summ / len(curvelist)\n",
    "    for i in range(len(pos_df)):\n",
    "        for j in range(len(curvelist)):\n",
    "            if len(curvelist[j]) >= average:\n",
    "                for k in range(len(curvelist[j])):\n",
    "                    curves.append(pos_df.curvelist[j]loc[k])\n",
    "                    pos_df.drop(curvelist[j]loc[k], 0, inplace=True)\n",
    "                    pos_df.reset_index(drop=True, inplace=True)\n",
    "    for i in range(len(pos_df)):\n",
    "        straigth.append(pos_df.loc[i])\n",
    "                        \n",
    "                       "
   ]
<<<<<<< HEAD
>>>>>>> a901c9b (update to previous commit)
=======
  },
  {
   "cell_type": "code",
   "execution_count": 9,
   "id": "7400acc4",
   "metadata": {},
   "outputs": [
    {
     "name": "stdout",
     "output_type": "stream",
     "text": [
      "%time                       1635234546762375434\n",
      "field.header.seq                          13640\n",
      "field.header.stamp          1635234546761756284\n",
      "field.header.frame_id                       map\n",
      "field.pose.position.x              -8354.300185\n",
      "field.pose.position.y              -5678.253055\n",
      "field.pose.position.z                 65.867232\n",
      "field.pose.orientation.x               0.003345\n",
      "field.pose.orientation.y              -0.011834\n",
      "field.pose.orientation.z               0.833968\n",
      "field.pose.orientation.w               0.551676\n",
      "Name: 0, dtype: object\n"
     ]
    }
   ],
   "source": [
    "a = pos_df.loc[0]\n",
    "print(a)"
   ]
>>>>>>> ffee0e4 (finished function for separating curves from straigths)
  }
 ],
 "metadata": {
  "kernelspec": {
   "display_name": "Python 3",
   "language": "python",
   "name": "python3"
  },
  "language_info": {
   "codemirror_mode": {
    "name": "ipython",
    "version": 3
   },
   "file_extension": ".py",
   "mimetype": "text/x-python",
   "name": "python",
   "nbconvert_exporter": "python",
   "pygments_lexer": "ipython3",
   "version": "3.8.8"
  }
 },
 "nbformat": 4,
 "nbformat_minor": 5
}
