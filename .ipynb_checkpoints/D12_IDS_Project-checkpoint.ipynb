{
 "cells": [
  {
   "cell_type": "markdown",
   "id": "83aafbc6",
   "metadata": {},
   "source": [
    "# Project D12\n",
    "## ADL1 - Cleaning Data"
   ]
  },
  {
   "cell_type": "markdown",
   "id": "ad2c4acd",
   "metadata": {},
   "source": [
    "##### Opening the datasets "
   ]
  },
  {
   "cell_type": "code",
   "execution_count": 1,
   "id": "8df5bbb2",
   "metadata": {},
   "outputs": [],
   "source": [
    "import pandas as pd\n",
    "import numpy as np\n",
    "positions = pd.read_table(\"data/out.csv\",sep = \",\")\n",
    "autonomy = pd.read_table(\"data/out_autonomy.csv\",sep = \",\")\n",
    "speed = pd.read_table(\"data/out_speed.csv\",sep = \",\")\n",
    "steer = pd.read_table(\"data/out_steer.csv\",sep = \",\")\n",
    "turn = pd.read_csv(\"data/outturn.csv\",sep = \",\")"
   ]
  },
  {
   "cell_type": "markdown",
   "id": "a61ce114",
   "metadata": {},
   "source": [
    "##### Convert data into pandas DataFrames"
   ]
  },
  {
   "cell_type": "code",
   "execution_count": 2,
   "id": "f34490b9",
   "metadata": {},
   "outputs": [],
   "source": [
    "pos_df = pd.DataFrame(positions)\n",
    "auto_df = pd.DataFrame(autonomy)\n",
    "speed_df = pd.DataFrame(speed)\n",
    "steer_df = pd.DataFrame(steer)\n",
    "turn_df = pd.DataFrame(turn)"
   ]
  },
  {
   "cell_type": "markdown",
   "id": "5f65cbb5",
   "metadata": {},
   "source": [
    "##### Deleting the beginning of the recording"
   ]
  },
  {
   "cell_type": "code",
   "execution_count": 21,
   "id": "737d577f",
   "metadata": {
    "scrolled": true
   },
   "outputs": [
    {
     "name": "stdout",
     "output_type": "stream",
     "text": [
      "0\n",
      "-8354.0\n"
     ]
    }
   ],
   "source": [
    "def deletebeginning():\n",
    "    start_x = pos_df[\"field.pose.position.x\"][0].round()#fixing the starting values\n",
    "    start_y = pos_df[\"field.pose.position.y\"][0].round()\n",
    "    move_start_x=0#counters \n",
    "    move_start_y=0\n",
    "    moved_x= False#value to represent whether the car has moved\n",
    "    moved_y= False\n",
    "    moved_index= 0#index counter\n",
    "    for i in range(len(pos_df)):\n",
    "        current_x=pos_df[\"field.pose.position.x\"][i].round()#fixing the current x and y values\n",
    "        current_y=pos_df[\"field.pose.position.y\"][i].round()\n",
    "        if current_x == start_x:# if the values do not change, they must be deleted\n",
    "            move_start_x += 1\n",
    "        else:\n",
    "            moved_x= True\n",
    "        if current_y == start_y:\n",
    "            move_start_y += 1\n",
    "        else:\n",
    "            moved_y= True\n",
    "            \n",
    "        if moved_x and moved_y:# if the x and y values did change\n",
    "            if move_start_x > move_start_y:#finding out which value changed last\n",
    "                moved_index= move_start_x\n",
    "            elif move_start_x < move_start_y:\n",
    "                moved_index= move_start_y\n",
    "    pos_df = pos_df.iloc[moved_index:,]\n",
    "            "
   ]
  },
  {
   "cell_type": "code",
   "execution_count": null,
   "id": "b21f7e38",
   "metadata": {},
   "outputs": [],
   "source": [
    "def deleteend():\n",
    "    start_x = pos_df[\"field.pose.position.x\"][:1].round()\n",
    "    start_y = pos_df[\"field.pose.position.y\"][:1].round()\n",
    "    stop_start_x=0\n",
    "    stop_start_y=0\n",
    "    stopped_x= False\n",
    "    stopped_y= False\n",
    "    stopped_index= 0\n",
    "    i = len(pos_df)\n",
    "    while i > 0:\n",
    "        current_x=pos_df[\"field.pose.position.x\"][i].round()\n",
    "        current_y=pos_df[\"field.pose.position.y\"][i].round()\n",
    "        if current_x == start_x:\n",
    "            stop_start_x += 1\n",
    "        else:\n",
    "            stopped_x= True\n",
    "        if current_y == start_y:\n",
    "            stop_start_y += 1\n",
    "        else:\n",
    "            stopped_y= True\n",
    "            \n",
    "        if stopped_x and stopped_y:\n",
    "            if stop_start_x > stop_start_y:\n",
    "                stopped_index= stop_start_x\n",
    "            elif stop_start_x < stop_start_y:\n",
    "                stopped_index= stop_start_y\n",
    "                \n",
    "    pos_df = pos_df.iloc[stopped_index:,]"
   ]
  }
 ],
 "metadata": {
  "kernelspec": {
   "display_name": "Python 3",
   "language": "python",
   "name": "python3"
  },
  "language_info": {
   "codemirror_mode": {
    "name": "ipython",
    "version": 3
   },
   "file_extension": ".py",
   "mimetype": "text/x-python",
   "name": "python",
   "nbconvert_exporter": "python",
   "pygments_lexer": "ipython3",
   "version": "3.8.8"
  }
 },
 "nbformat": 4,
 "nbformat_minor": 5
}
